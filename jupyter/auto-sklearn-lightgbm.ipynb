{
 "metadata": {
  "language_info": {
   "codemirror_mode": {
    "name": "ipython",
    "version": 3
   },
   "file_extension": ".py",
   "mimetype": "text/x-python",
   "name": "python",
   "nbconvert_exporter": "python",
   "pygments_lexer": "ipython3",
   "version": "3.6.9-final"
  },
  "orig_nbformat": 2,
  "kernelspec": {
   "name": "python3",
   "display_name": "Python 3.6.9 64-bit",
   "metadata": {
    "interpreter": {
     "hash": "31f2aee4e71d21fbe5cf8b01ff0e069b9275f58929596ceb00d14d90e3e16cd6"
    }
   }
  }
 },
 "nbformat": 4,
 "nbformat_minor": 2,
 "cells": [
  {
   "cell_type": "code",
   "execution_count": 1,
   "metadata": {},
   "outputs": [
    {
     "output_type": "stream",
     "name": "stdout",
     "text": [
      "Collecting lightgbm\n",
      "  Using cached https://files.pythonhosted.org/packages/70/cd/2b7783e8c250f8191b72e9a0010e0429a799d3305c27764d7bf113dfd078/lightgbm-3.1.1-py2.py3-none-manylinux1_x86_64.whl\n",
      "Collecting wheel (from lightgbm)\n",
      "  Using cached https://files.pythonhosted.org/packages/65/63/39d04c74222770ed1589c0eaba06c05891801219272420b40311cd60c880/wheel-0.36.2-py2.py3-none-any.whl\n",
      "Collecting numpy (from lightgbm)\n",
      "  Using cached https://files.pythonhosted.org/packages/45/b2/6c7545bb7a38754d63048c7696804a0d947328125d81bf12beaa692c3ae3/numpy-1.19.5-cp36-cp36m-manylinux1_x86_64.whl\n",
      "Collecting scikit-learn!=0.22.0 (from lightgbm)\n",
      "  Using cached https://files.pythonhosted.org/packages/a4/11/e5862273960aef46cf98e571db5433bdabe5e816ef3317260dcdabc9b438/scikit_learn-0.24.1-cp36-cp36m-manylinux1_x86_64.whl\n",
      "Collecting scipy (from lightgbm)\n",
      "  Using cached https://files.pythonhosted.org/packages/c8/89/63171228d5ced148f5ced50305c89e8576ffc695a90b58fe5bb602b910c2/scipy-1.5.4-cp36-cp36m-manylinux1_x86_64.whl\n",
      "Collecting threadpoolctl>=2.0.0 (from scikit-learn!=0.22.0->lightgbm)\n",
      "  Using cached https://files.pythonhosted.org/packages/f7/12/ec3f2e203afa394a149911729357aa48affc59c20e2c1c8297a60f33f133/threadpoolctl-2.1.0-py3-none-any.whl\n",
      "Collecting joblib>=0.11 (from scikit-learn!=0.22.0->lightgbm)\n",
      "  Using cached https://files.pythonhosted.org/packages/55/85/70c6602b078bd9e6f3da4f467047e906525c355a4dacd4f71b97a35d9897/joblib-1.0.1-py3-none-any.whl\n",
      "Installing collected packages: wheel, numpy, threadpoolctl, scipy, joblib, scikit-learn, lightgbm\n",
      "Successfully installed joblib-1.0.1 lightgbm-3.1.1 numpy-1.19.5 scikit-learn-0.24.1 scipy-1.5.4 threadpoolctl-2.1.0 wheel-0.36.2\n"
     ]
    }
   ],
   "source": [
    "!pip3 install lightgbm"
   ]
  },
  {
   "cell_type": "code",
   "execution_count": 1,
   "metadata": {
    "tags": []
   },
   "outputs": [
    {
     "output_type": "stream",
     "name": "stdout",
     "text": [
      "Configuration space object:\n",
      "  Hyperparameters:\n",
      "    n_estimators, Type: UniformInteger, Range: [200, 300], Default: 200\n",
      "    num_leaves, Type: UniformFloat, Range: [10.0, 100.0], Default: 30.0\n",
      "\n",
      "accuracy:  0.9440559440559441\n",
      "[(0.880000, SimpleClassificationPipeline({'balancing:strategy': 'none', 'classifier:__choice__': 'CustomLightGBM', 'data_preprocessing:categorical_transformer:categorical_encoding:__choice__': 'one_hot_encoding', 'data_preprocessing:categorical_transformer:category_coalescence:__choice__': 'minority_coalescer', 'data_preprocessing:numerical_transformer:imputation:strategy': 'mean', 'data_preprocessing:numerical_transformer:rescaling:__choice__': 'standardize', 'feature_preprocessor:__choice__': 'no_preprocessing', 'classifier:CustomLightGBM:n_estimators': 200, 'classifier:CustomLightGBM:num_leaves': 30.0, 'data_preprocessing:categorical_transformer:category_coalescence:minority_coalescer:minimum_fraction': 0.01},\n",
      "dataset_properties={\n",
      "  'task': 1,\n",
      "  'sparse': False,\n",
      "  'multilabel': False,\n",
      "  'multiclass': False,\n",
      "  'target_type': 'classification',\n",
      "  'signed': False})),\n",
      "(0.120000, SimpleClassificationPipeline({'balancing:strategy': 'none', 'classifier:__choice__': 'CustomLightGBM', 'data_preprocessing:categorical_transformer:categorical_encoding:__choice__': 'no_encoding', 'data_preprocessing:categorical_transformer:category_coalescence:__choice__': 'no_coalescense', 'data_preprocessing:numerical_transformer:imputation:strategy': 'mean', 'data_preprocessing:numerical_transformer:rescaling:__choice__': 'standardize', 'feature_preprocessor:__choice__': 'no_preprocessing', 'classifier:CustomLightGBM:n_estimators': 250, 'classifier:CustomLightGBM:num_leaves': 28.460568595852692},\n",
      "dataset_properties={\n",
      "  'task': 1,\n",
      "  'sparse': False,\n",
      "  'multilabel': False,\n",
      "  'multiclass': False,\n",
      "  'target_type': 'classification',\n",
      "  'signed': False})),\n",
      "]\n"
     ]
    }
   ],
   "source": [
    "from ConfigSpace.configuration_space import ConfigurationSpace\n",
    "from ConfigSpace.hyperparameters import UniformIntegerHyperparameter, UniformFloatHyperparameter\n",
    "\n",
    "import sklearn\n",
    "from sklearn.datasets import load_breast_cancer, load_wine\n",
    "from sklearn.model_selection import train_test_split\n",
    "\n",
    "import autosklearn.classification\n",
    "import autosklearn.pipeline.components.classification\n",
    "from autosklearn.pipeline.components.classification \\\n",
    "    import AutoSklearnClassificationAlgorithm\n",
    "from autosklearn.pipeline.constants import DENSE, UNSIGNED_DATA, SIGNED_DATA, PREDICTIONS\n",
    "from autosklearn.metrics import balanced_accuracy, precision, recall, f1\n",
    "\n",
    "\n",
    "############################################################################\n",
    "# Subclass auto-sklearn's lightgbm classifier\n",
    "# ================================================\n",
    "\n",
    "# This classifier only has one of the hyperparameter's of auto-sklearn's\n",
    "# default parametrization (``max_features``). Instead, it also\n",
    "# tunes the number of estimators (``n_estimators``).\n",
    "\n",
    "class CustomLightGBM(AutoSklearnClassificationAlgorithm):\n",
    "    def __init__(self,\n",
    "                 n_estimators,\n",
    "                 num_leaves,\n",
    "                 random_state=None,\n",
    "                 ):\n",
    "        self.n_estimators = n_estimators\n",
    "        self.num_leaves = num_leaves\n",
    "        self.random_state = random_state\n",
    "\n",
    "    def fit(self, X, y):\n",
    "        from lightgbm import LGBMClassifier\n",
    "\n",
    "        self.n_estimators = int(self.n_estimators)\n",
    "        self.num_leaves = int(self.num_leaves)\n",
    "\n",
    "        self.estimator = LGBMClassifier(\n",
    "            n_estimators=self.n_estimators,\n",
    "            max_features=self.num_leaves,\n",
    "            random_state=self.random_state,\n",
    "        )\n",
    "        self.estimator.fit(X, y)\n",
    "        return self\n",
    "\n",
    "    def predict(self, X):\n",
    "        if self.estimator is None:\n",
    "            raise NotImplementedError()\n",
    "        return self.estimator.predict(X)\n",
    "\n",
    "    def predict_proba(self, X):\n",
    "        if self.estimator is None:\n",
    "            raise NotImplementedError()\n",
    "        return self.estimator.predict_proba(X)\n",
    "\n",
    "    @staticmethod\n",
    "    def get_properties(dataset_properties=None):\n",
    "        return {'shortname': 'LGBM',\n",
    "                'name': 'LightGBM Classifier',\n",
    "                'handles_regression': False,\n",
    "                'handles_classification': True,\n",
    "                'handles_multiclass': True,\n",
    "                'handles_multilabel': True,\n",
    "                'handles_multioutput': True,\n",
    "                'is_deterministic': True,\n",
    "                'input': (DENSE, SIGNED_DATA, UNSIGNED_DATA),\n",
    "                'output': (PREDICTIONS,)}\n",
    "\n",
    "    @staticmethod\n",
    "    def get_hyperparameter_search_space(dataset_properties=None):\n",
    "        cs = ConfigurationSpace()\n",
    "\n",
    "        num_leaves = UniformFloatHyperparameter(\"num_leaves\", 10, 100, default_value=30)\n",
    "        n_estimators = UniformIntegerHyperparameter(\"n_estimators\", 200, 300, default_value=200)\n",
    "\n",
    "        cs.add_hyperparameters([num_leaves, n_estimators])\n",
    "        return cs\n",
    "\n",
    "\n",
    "# Add custom random forest classifier component to auto-sklearn.\n",
    "autosklearn.pipeline.components.classification.add_classifier(CustomLightGBM)\n",
    "cs = CustomLightGBM.get_hyperparameter_search_space()\n",
    "print(cs)\n",
    "\n",
    "############################################################################\n",
    "# Data Loading\n",
    "# ============\n",
    "\n",
    "X, y = load_breast_cancer(return_X_y=True)\n",
    "# X, y = load_wine(return_X_y=True)\n",
    "X_train, X_test, y_train, y_test = train_test_split(X, y)\n",
    "\n",
    "############################################################################\n",
    "# Fit Random forest classifier to the data\n",
    "# ========================================\n",
    "\n",
    "# n_jobs를 설정하지 않으면 무지막지하게 느려진다.\n",
    "clf = autosklearn.classification.AutoSklearnClassifier(\n",
    "    time_left_for_this_task=600,\n",
    "    per_run_time_limit=240,\n",
    "    # Here we exclude auto-sklearn's default random forest component\n",
    "    include_estimators=['CustomLightGBM'],\n",
    "    n_jobs=1,\n",
    "    # Bellow two flags are provided to speed up calculations\n",
    "    # Not recommended for a real implementation\n",
    "    initial_configurations_via_metalearning=0,\n",
    "    scoring_functions=[balanced_accuracy],\n",
    "    smac_scenario_args={'runcount_limit': 2},\n",
    ")\n",
    "clf.fit(X_train, y_train)\n",
    "y_pred = clf.predict(X_test)\n",
    "print(\"accuracy: \", sklearn.metrics.accuracy_score(y_pred, y_test))\n",
    "print(clf.show_models())\n",
    "# print(clf.show_models())\n",
    "############################################################################\n",
    "# Print the configuration space\n",
    "# =============================\n",
    "\n",
    "# Observe that this configuration space only contains our custom random\n",
    "# forest, but not auto-sklearn's ``random_forest``\n",
    "# cs = clf.get_configuration_space(X_train, y_train)\n",
    "# assert 'random_forest' not in str(cs)\n",
    "# print(cs)"
   ]
  },
  {
   "cell_type": "code",
   "execution_count": 2,
   "metadata": {},
   "outputs": [
    {
     "output_type": "stream",
     "name": "stdout",
     "text": [
      "OrderedDict([(RunKey(config_id=1, instance_id='{\"task_id\": \"aa099a9c-808f-11eb-8376-b42e99e8c846\"}', seed=0, budget=0.0), RunValue(cost=0.049645390070921946, time=0.2700483798980713, status=<StatusType.SUCCESS: 1>, starttime=1615264008.8356369, endtime=1615264009.118551, additional_info={'balanced_accuracy': 0.06228559176672377, 'accuracy': 0.049645390070921946, 'duration': 0.2559242248535156, 'num_run': 2, 'train_loss': 0.0, 'configuration_origin': 'Default'})), (RunKey(config_id=2, instance_id='{\"task_id\": \"aa099a9c-808f-11eb-8376-b42e99e8c846\"}', seed=0, budget=0.0), RunValue(cost=0.05673758865248224, time=0.2784600257873535, status=<StatusType.SUCCESS: 1>, starttime=1615264009.7946033, endtime=1615264010.0850773, additional_info={'balanced_accuracy': 0.07171955403087482, 'accuracy': 0.05673758865248224, 'duration': 0.26608824729919434, 'num_run': 3, 'train_loss': 0.0, 'configuration_origin': 'Random Search (sorted)'}))])\n"
     ]
    }
   ],
   "source": [
    "print(clf.automl_.runhistory_.data)"
   ]
  },
  {
   "cell_type": "code",
   "execution_count": 3,
   "metadata": {},
   "outputs": [
    {
     "output_type": "stream",
     "name": "stdout",
     "text": [
      "{'mean_test_score': array([0.95035461, 0.94326241]), 'metric_balanced_accuracy': masked_array(data=[0.9377144082332762, 0.9282804459691252],\n             mask=[False, False],\n       fill_value=1e+20), 'mean_fit_time': array([0.27004838, 0.27846003]), 'params': [{'balancing:strategy': 'none', 'classifier:__choice__': 'CustomLightGBM', 'data_preprocessing:categorical_transformer:categorical_encoding:__choice__': 'one_hot_encoding', 'data_preprocessing:categorical_transformer:category_coalescence:__choice__': 'minority_coalescer', 'data_preprocessing:numerical_transformer:imputation:strategy': 'mean', 'data_preprocessing:numerical_transformer:rescaling:__choice__': 'standardize', 'feature_preprocessor:__choice__': 'no_preprocessing', 'classifier:CustomLightGBM:n_estimators': 200, 'classifier:CustomLightGBM:num_leaves': 30.0, 'data_preprocessing:categorical_transformer:category_coalescence:minority_coalescer:minimum_fraction': 0.01}, {'balancing:strategy': 'none', 'classifier:__choice__': 'CustomLightGBM', 'data_preprocessing:categorical_transformer:categorical_encoding:__choice__': 'no_encoding', 'data_preprocessing:categorical_transformer:category_coalescence:__choice__': 'no_coalescense', 'data_preprocessing:numerical_transformer:imputation:strategy': 'mean', 'data_preprocessing:numerical_transformer:rescaling:__choice__': 'standardize', 'feature_preprocessor:__choice__': 'no_preprocessing', 'classifier:CustomLightGBM:n_estimators': 250, 'classifier:CustomLightGBM:num_leaves': 28.460568595852692}], 'rank_test_scores': array([1, 2]), 'status': ['Success', 'Success'], 'budgets': [0.0, 0.0], 'param_balancing:strategy': masked_array(data=['none', 'none'],\n             mask=[False, False],\n       fill_value='N/A',\n            dtype='<U4'), 'param_classifier:__choice__': masked_array(data=['CustomLightGBM', 'CustomLightGBM'],\n             mask=[False, False],\n       fill_value='N/A',\n            dtype='<U14'), 'param_data_preprocessing:categorical_transformer:categorical_encoding:__choice__': masked_array(data=['one_hot_encoding', 'no_encoding'],\n             mask=[False, False],\n       fill_value='N/A',\n            dtype='<U16'), 'param_data_preprocessing:categorical_transformer:category_coalescence:__choice__': masked_array(data=['minority_coalescer', 'no_coalescense'],\n             mask=[False, False],\n       fill_value='N/A',\n            dtype='<U18'), 'param_data_preprocessing:numerical_transformer:imputation:strategy': masked_array(data=['mean', 'mean'],\n             mask=[False, False],\n       fill_value='N/A',\n            dtype='<U4'), 'param_data_preprocessing:numerical_transformer:rescaling:__choice__': masked_array(data=['standardize', 'standardize'],\n             mask=[False, False],\n       fill_value='N/A',\n            dtype='<U11'), 'param_feature_preprocessor:__choice__': masked_array(data=['no_preprocessing', 'no_preprocessing'],\n             mask=[False, False],\n       fill_value='N/A',\n            dtype='<U16'), 'param_classifier:CustomLightGBM:n_estimators': masked_array(data=[200, 250],\n             mask=[False, False],\n       fill_value=999999), 'param_classifier:CustomLightGBM:num_leaves': masked_array(data=[30.0, 28.460568595852692],\n             mask=[False, False],\n       fill_value=1e+20), 'param_data_preprocessing:categorical_transformer:category_coalescence:minority_coalescer:minimum_fraction': masked_array(data=[0.01, --],\n             mask=[False,  True],\n       fill_value=1e+20), 'param_data_preprocessing:numerical_transformer:rescaling:quantile_transformer:n_quantiles': masked_array(data=[--, --],\n             mask=[ True,  True],\n       fill_value=1e+20,\n            dtype=float64), 'param_data_preprocessing:numerical_transformer:rescaling:quantile_transformer:output_distribution': masked_array(data=[--, --],\n             mask=[ True,  True],\n       fill_value=1e+20,\n            dtype=float64), 'param_data_preprocessing:numerical_transformer:rescaling:robust_scaler:q_max': masked_array(data=[--, --],\n             mask=[ True,  True],\n       fill_value=1e+20,\n            dtype=float64), 'param_data_preprocessing:numerical_transformer:rescaling:robust_scaler:q_min': masked_array(data=[--, --],\n             mask=[ True,  True],\n       fill_value=1e+20,\n            dtype=float64), 'param_feature_preprocessor:extra_trees_preproc_for_classification:bootstrap': masked_array(data=[--, --],\n             mask=[ True,  True],\n       fill_value=1e+20,\n            dtype=float64), 'param_feature_preprocessor:extra_trees_preproc_for_classification:criterion': masked_array(data=[--, --],\n             mask=[ True,  True],\n       fill_value=1e+20,\n            dtype=float64), 'param_feature_preprocessor:extra_trees_preproc_for_classification:max_depth': masked_array(data=[--, --],\n             mask=[ True,  True],\n       fill_value=1e+20,\n            dtype=float64), 'param_feature_preprocessor:extra_trees_preproc_for_classification:max_features': masked_array(data=[--, --],\n             mask=[ True,  True],\n       fill_value=1e+20,\n            dtype=float64), 'param_feature_preprocessor:extra_trees_preproc_for_classification:max_leaf_nodes': masked_array(data=[--, --],\n             mask=[ True,  True],\n       fill_value=1e+20,\n            dtype=float64), 'param_feature_preprocessor:extra_trees_preproc_for_classification:min_impurity_decrease': masked_array(data=[--, --],\n             mask=[ True,  True],\n       fill_value=1e+20,\n            dtype=float64), 'param_feature_preprocessor:extra_trees_preproc_for_classification:min_samples_leaf': masked_array(data=[--, --],\n             mask=[ True,  True],\n       fill_value=1e+20,\n            dtype=float64), 'param_feature_preprocessor:extra_trees_preproc_for_classification:min_samples_split': masked_array(data=[--, --],\n             mask=[ True,  True],\n       fill_value=1e+20,\n            dtype=float64), 'param_feature_preprocessor:extra_trees_preproc_for_classification:min_weight_fraction_leaf': masked_array(data=[--, --],\n             mask=[ True,  True],\n       fill_value=1e+20,\n            dtype=float64), 'param_feature_preprocessor:extra_trees_preproc_for_classification:n_estimators': masked_array(data=[--, --],\n             mask=[ True,  True],\n       fill_value=1e+20,\n            dtype=float64), 'param_feature_preprocessor:fast_ica:algorithm': masked_array(data=[--, --],\n             mask=[ True,  True],\n       fill_value=1e+20,\n            dtype=float64), 'param_feature_preprocessor:fast_ica:fun': masked_array(data=[--, --],\n             mask=[ True,  True],\n       fill_value=1e+20,\n            dtype=float64), 'param_feature_preprocessor:fast_ica:whiten': masked_array(data=[--, --],\n             mask=[ True,  True],\n       fill_value=1e+20,\n            dtype=float64), 'param_feature_preprocessor:feature_agglomeration:affinity': masked_array(data=[--, --],\n             mask=[ True,  True],\n       fill_value=1e+20,\n            dtype=float64), 'param_feature_preprocessor:feature_agglomeration:linkage': masked_array(data=[--, --],\n             mask=[ True,  True],\n       fill_value=1e+20,\n            dtype=float64), 'param_feature_preprocessor:feature_agglomeration:n_clusters': masked_array(data=[--, --],\n             mask=[ True,  True],\n       fill_value=1e+20,\n            dtype=float64), 'param_feature_preprocessor:feature_agglomeration:pooling_func': masked_array(data=[--, --],\n             mask=[ True,  True],\n       fill_value=1e+20,\n            dtype=float64), 'param_feature_preprocessor:kernel_pca:kernel': masked_array(data=[--, --],\n             mask=[ True,  True],\n       fill_value=1e+20,\n            dtype=float64), 'param_feature_preprocessor:kernel_pca:n_components': masked_array(data=[--, --],\n             mask=[ True,  True],\n       fill_value=1e+20,\n            dtype=float64), 'param_feature_preprocessor:kitchen_sinks:gamma': masked_array(data=[--, --],\n             mask=[ True,  True],\n       fill_value=1e+20,\n            dtype=float64), 'param_feature_preprocessor:kitchen_sinks:n_components': masked_array(data=[--, --],\n             mask=[ True,  True],\n       fill_value=1e+20,\n            dtype=float64), 'param_feature_preprocessor:liblinear_svc_preprocessor:C': masked_array(data=[--, --],\n             mask=[ True,  True],\n       fill_value=1e+20,\n            dtype=float64), 'param_feature_preprocessor:liblinear_svc_preprocessor:dual': masked_array(data=[--, --],\n             mask=[ True,  True],\n       fill_value=1e+20,\n            dtype=float64), 'param_feature_preprocessor:liblinear_svc_preprocessor:fit_intercept': masked_array(data=[--, --],\n             mask=[ True,  True],\n       fill_value=1e+20,\n            dtype=float64), 'param_feature_preprocessor:liblinear_svc_preprocessor:intercept_scaling': masked_array(data=[--, --],\n             mask=[ True,  True],\n       fill_value=1e+20,\n            dtype=float64), 'param_feature_preprocessor:liblinear_svc_preprocessor:loss': masked_array(data=[--, --],\n             mask=[ True,  True],\n       fill_value=1e+20,\n            dtype=float64), 'param_feature_preprocessor:liblinear_svc_preprocessor:multi_class': masked_array(data=[--, --],\n             mask=[ True,  True],\n       fill_value=1e+20,\n            dtype=float64), 'param_feature_preprocessor:liblinear_svc_preprocessor:penalty': masked_array(data=[--, --],\n             mask=[ True,  True],\n       fill_value=1e+20,\n            dtype=float64), 'param_feature_preprocessor:liblinear_svc_preprocessor:tol': masked_array(data=[--, --],\n             mask=[ True,  True],\n       fill_value=1e+20,\n            dtype=float64), 'param_feature_preprocessor:nystroem_sampler:kernel': masked_array(data=[--, --],\n             mask=[ True,  True],\n       fill_value=1e+20,\n            dtype=float64), 'param_feature_preprocessor:nystroem_sampler:n_components': masked_array(data=[--, --],\n             mask=[ True,  True],\n       fill_value=1e+20,\n            dtype=float64), 'param_feature_preprocessor:pca:keep_variance': masked_array(data=[--, --],\n             mask=[ True,  True],\n       fill_value=1e+20,\n            dtype=float64), 'param_feature_preprocessor:pca:whiten': masked_array(data=[--, --],\n             mask=[ True,  True],\n       fill_value=1e+20,\n            dtype=float64), 'param_feature_preprocessor:polynomial:degree': masked_array(data=[--, --],\n             mask=[ True,  True],\n       fill_value=1e+20,\n            dtype=float64), 'param_feature_preprocessor:polynomial:include_bias': masked_array(data=[--, --],\n             mask=[ True,  True],\n       fill_value=1e+20,\n            dtype=float64), 'param_feature_preprocessor:polynomial:interaction_only': masked_array(data=[--, --],\n             mask=[ True,  True],\n       fill_value=1e+20,\n            dtype=float64), 'param_feature_preprocessor:select_percentile_classification:percentile': masked_array(data=[--, --],\n             mask=[ True,  True],\n       fill_value=1e+20,\n            dtype=float64), 'param_feature_preprocessor:select_percentile_classification:score_func': masked_array(data=[--, --],\n             mask=[ True,  True],\n       fill_value=1e+20,\n            dtype=float64), 'param_feature_preprocessor:select_rates_classification:alpha': masked_array(data=[--, --],\n             mask=[ True,  True],\n       fill_value=1e+20,\n            dtype=float64), 'param_feature_preprocessor:select_rates_classification:score_func': masked_array(data=[--, --],\n             mask=[ True,  True],\n       fill_value=1e+20,\n            dtype=float64), 'param_feature_preprocessor:fast_ica:n_components': masked_array(data=[--, --],\n             mask=[ True,  True],\n       fill_value=1e+20,\n            dtype=float64), 'param_feature_preprocessor:kernel_pca:coef0': masked_array(data=[--, --],\n             mask=[ True,  True],\n       fill_value=1e+20,\n            dtype=float64), 'param_feature_preprocessor:kernel_pca:degree': masked_array(data=[--, --],\n             mask=[ True,  True],\n       fill_value=1e+20,\n            dtype=float64), 'param_feature_preprocessor:kernel_pca:gamma': masked_array(data=[--, --],\n             mask=[ True,  True],\n       fill_value=1e+20,\n            dtype=float64), 'param_feature_preprocessor:nystroem_sampler:coef0': masked_array(data=[--, --],\n             mask=[ True,  True],\n       fill_value=1e+20,\n            dtype=float64), 'param_feature_preprocessor:nystroem_sampler:degree': masked_array(data=[--, --],\n             mask=[ True,  True],\n       fill_value=1e+20,\n            dtype=float64), 'param_feature_preprocessor:nystroem_sampler:gamma': masked_array(data=[--, --],\n             mask=[ True,  True],\n       fill_value=1e+20,\n            dtype=float64), 'param_feature_preprocessor:select_rates_classification:mode': masked_array(data=[--, --],\n             mask=[ True,  True],\n       fill_value=1e+20,\n            dtype=float64)}\n"
     ]
    }
   ],
   "source": [
    "print(clf.cv_results_)"
   ]
  },
  {
   "cell_type": "code",
   "execution_count": null,
   "metadata": {},
   "outputs": [],
   "source": []
  }
 ]
}